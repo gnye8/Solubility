{
  "nbformat": 4,
  "nbformat_minor": 0,
  "metadata": {
    "colab": {
      "provenance": [],
      "gpuType": "T4",
      "authorship_tag": "ABX9TyMT1i9tKlM7Ko5X+fwmGGg3",
      "include_colab_link": true
    },
    "kernelspec": {
      "name": "python3",
      "display_name": "Python 3"
    },
    "language_info": {
      "name": "python"
    },
    "accelerator": "GPU"
  },
  "cells": [
    {
      "cell_type": "markdown",
      "metadata": {
        "id": "view-in-github",
        "colab_type": "text"
      },
      "source": [
        "<a href=\"https://colab.research.google.com/github/gnye8/Solubility/blob/main/notebooks/logS_prediction.ipynb\" target=\"_parent\"><img src=\"https://colab.research.google.com/assets/colab-badge.svg\" alt=\"Open In Colab\"/></a>"
      ]
    },
    {
      "cell_type": "code",
      "execution_count": 1,
      "metadata": {
        "id": "LDN9FKeGGpOE"
      },
      "outputs": [],
      "source": [
        "import numpy as np\n",
        "import pandas as pd\n",
        "import matplotlib.pyplot as plt\n",
        "import seaborn as sns"
      ]
    },
    {
      "cell_type": "code",
      "source": [
        "X_train = np.load('/content/X_train_standard.npy')\n",
        "X_test = np.load('/content/X_test_standard.npy')\n",
        "y_train = np.load('/content/y_train.npy')\n",
        "y_test = np.load('/content/y_test.npy')\n",
        "\n",
        "extval = np.load('/content/logS_validation.npy')\n",
        "extval_df = pd.read_csv('/content/ext_validation_descriptors.csv', index_col=0)"
      ],
      "metadata": {
        "id": "Qb2vse11GxJ8"
      },
      "execution_count": 3,
      "outputs": []
    },
    {
      "cell_type": "code",
      "source": [
        "from sklearn.ensemble import RandomForestRegressor\n",
        "\n",
        "RF_best = RandomForestRegressor(n_estimators=1600, min_samples_split=2, min_samples_leaf=1,\n",
        "                                max_features='auto', max_depth=30)\n",
        "\n",
        "RF_best.fit(X_train, y_train.ravel())"
      ],
      "metadata": {
        "colab": {
          "base_uri": "https://localhost:8080/"
        },
        "id": "tlGPOB0yHdzb",
        "outputId": "5122b828-d2b4-4dc2-b98d-3e58ae6642d9"
      },
      "execution_count": null,
      "outputs": [
        {
          "output_type": "stream",
          "name": "stderr",
          "text": [
            "/usr/local/lib/python3.10/dist-packages/sklearn/ensemble/_forest.py:413: FutureWarning: `max_features='auto'` has been deprecated in 1.1 and will be removed in 1.3. To keep the past behaviour, explicitly set `max_features=1.0` or remove this parameter as it is also the default value for RandomForestRegressors and ExtraTreesRegressors.\n",
            "  warn(\n"
          ]
        }
      ]
    },
    {
      "cell_type": "code",
      "source": [],
      "metadata": {
        "id": "4E5xnVyjJfcM"
      },
      "execution_count": null,
      "outputs": []
    },
    {
      "cell_type": "code",
      "source": [
        "RF_best_preds = RF_best.predict(X_test)"
      ],
      "metadata": {
        "id": "eVmMmndkHs47"
      },
      "execution_count": null,
      "outputs": []
    },
    {
      "cell_type": "code",
      "source": [
        "from sklearn.metrics import mean_squared_error\n",
        "from sklearn.metrics import mean_absolute_error\n",
        "\n",
        "print(f'MAE of Random Forest Regressor with Best Settings:' + str(mean_absolute_error(y_test, RF_best_preds)))\n",
        "print(f'RMSE of Random Forest Regressor with Best Settings:' + str(mean_squared_error(y_test, RF_best_preds, squared=False)))"
      ],
      "metadata": {
        "id": "MA6uccP7HxUW"
      },
      "execution_count": null,
      "outputs": []
    },
    {
      "cell_type": "markdown",
      "source": [
        "Now to use our trained model to predict melting points of our logS external validation dataset."
      ],
      "metadata": {
        "id": "anf9j7gNJ8Ob"
      }
    },
    {
      "cell_type": "code",
      "source": [
        "extval_mp = RF_best.predict(extval)"
      ],
      "metadata": {
        "id": "f3C4AqqqITBR"
      },
      "execution_count": null,
      "outputs": []
    },
    {
      "cell_type": "code",
      "source": [
        "extval_df['RF_best_std_temp_preds'] = extval_mp\n",
        "extval_df.to_csv('/content/extval_meltingpoints.csv')"
      ],
      "metadata": {
        "id": "WlNpcNsLKLfm"
      },
      "execution_count": null,
      "outputs": []
    },
    {
      "cell_type": "markdown",
      "source": [
        "Now to build a linear regression model to try to predict solubility (logS) of this dataset."
      ],
      "metadata": {
        "id": "oVMbqRsBKa9q"
      }
    },
    {
      "cell_type": "code",
      "source": [
        "from sklearn.model_selection import train_test_split\n",
        "from sklearn.linear_model import LinearRegression\n",
        "\n",
        "X = extval_df[['MolLogP', 'RF_best_std_temp_preds']].to_numpy()\n",
        "y = extval_df[['logS']].to_numpy()\n",
        "\n",
        "X_logS_train, X_logS_test, y_logS_train, y_logS_test = train_test_split(X, y, random_state=42)\n",
        "\n",
        "print(X_logS_train.shape)\n",
        "print(X_logS_test.shape)\n",
        "print(y_logS_train.shape)\n",
        "print(y_logS_test.shape)"
      ],
      "metadata": {
        "id": "s3BxPbOWKTTl"
      },
      "execution_count": null,
      "outputs": []
    },
    {
      "cell_type": "code",
      "source": [
        "from sklearn.preprocessing import StandardScaler\n",
        "\n",
        "SS_scaler = StandardScaler()\n",
        "\n",
        "SS_scaler.fit(X_logS_train)\n",
        "X_logS_train = SS_scaler.transform(X_logS_train)\n",
        "X_logS_test = SS_scaler.transform(X_logS_test)"
      ],
      "metadata": {
        "id": "kGe6ep0DLfWu"
      },
      "execution_count": null,
      "outputs": []
    },
    {
      "cell_type": "code",
      "source": [
        "lin = LinearRegression()\n",
        "\n",
        "lin.fit(X_logS_train, y_logS_train)\n",
        "lin.score(X_logS_train, y_logS_train)"
      ],
      "metadata": {
        "id": "eOlHxFPSLww1"
      },
      "execution_count": null,
      "outputs": []
    },
    {
      "cell_type": "code",
      "source": [
        "y_logS_preds = lin.predict(X_logS_test)"
      ],
      "metadata": {
        "id": "bOwSanEaMGu4"
      },
      "execution_count": null,
      "outputs": []
    },
    {
      "cell_type": "code",
      "source": [
        "print(f'MAE of linear regression model predicting logS:' + str(mean_absolute_error(y_logS_test, y_logS_preds)))\n",
        "print(f'RMSE of linear regression model predicting logS:' + str(mean_squared_error(y_logS_test, y_logS_preds, squared=False)))"
      ],
      "metadata": {
        "id": "h3yVZgiIMMID"
      },
      "execution_count": null,
      "outputs": []
    },
    {
      "cell_type": "markdown",
      "source": [],
      "metadata": {
        "id": "EUMgnfVEMoGp"
      }
    }
  ]
}